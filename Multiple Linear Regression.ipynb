{
 "cells": [
  {
   "cell_type": "code",
   "execution_count": 1,
   "metadata": {},
   "outputs": [],
   "source": [
    "# Importing the libraries\n",
    "import numpy as np\n",
    "import matplotlib.pyplot as plt\n",
    "import pandas as pd\n",
    "import numpy.random as nr"
   ]
  },
  {
   "cell_type": "code",
   "execution_count": 2,
   "metadata": {},
   "outputs": [],
   "source": [
    "# Importing the dataset\n",
    "dataset = pd.read_csv('BD.csv')"
   ]
  },
  {
   "cell_type": "code",
   "execution_count": null,
   "metadata": {},
   "outputs": [],
   "source": [
    "dataset.head()"
   ]
  },
  {
   "cell_type": "code",
   "execution_count": null,
   "metadata": {},
   "outputs": [],
   "source": [
    "dataset.shape"
   ]
  },
  {
   "cell_type": "code",
   "execution_count": 3,
   "metadata": {},
   "outputs": [],
   "source": [
    "dataset.drop(['Unnamed: 16', 'Unnamed: 17', 'Unnamed: 18' , 'Unnamed: 19'], axis=1, inplace=True)"
   ]
  },
  {
   "cell_type": "code",
   "execution_count": null,
   "metadata": {},
   "outputs": [],
   "source": [
    "dataset.head()"
   ]
  },
  {
   "cell_type": "code",
   "execution_count": null,
   "metadata": {},
   "outputs": [],
   "source": [
    "dataset.info"
   ]
  },
  {
   "cell_type": "code",
   "execution_count": 4,
   "metadata": {},
   "outputs": [],
   "source": [
    "dataset.drop(dataset.index[204], inplace=True)"
   ]
  },
  {
   "cell_type": "code",
   "execution_count": 5,
   "metadata": {},
   "outputs": [],
   "source": [
    "dataset['Profit'].fillna(dataset['Profit'].mean(), inplace=True)"
   ]
  },
  {
   "cell_type": "code",
   "execution_count": null,
   "metadata": {},
   "outputs": [],
   "source": [
    "dataset.info"
   ]
  },
  {
   "cell_type": "code",
   "execution_count": 6,
   "metadata": {},
   "outputs": [],
   "source": [
    "X = dataset.iloc[:, :-1].values\n",
    "y = dataset.iloc[:, 15].values"
   ]
  },
  {
   "cell_type": "code",
   "execution_count": null,
   "metadata": {},
   "outputs": [],
   "source": [
    "X"
   ]
  },
  {
   "cell_type": "code",
   "execution_count": 16,
   "metadata": {},
   "outputs": [
    {
     "data": {
      "text/plain": [
       "array([249804.     , 277324.     , 250187.     , 290215.     ,\n",
       "       279912.     , 304595.     , 246935.     , 214585.     ,\n",
       "       189148.     , 209188.     , 237523.     , 221145.     ,\n",
       "       249249.     , 273868.     , 251632.     , 296459.     ,\n",
       "       294667.     , 322492.     , 269174.     , 252207.     ,\n",
       "       231370.     , 246049.     , 275110.     , 283340.     ,\n",
       "       313837.     , 343298.     , 309663.     , 337883.     ,\n",
       "       338418.     , 387189.     , 315563.     , 301117.     ,\n",
       "       278569.     , 289490.     , 322139.     , 317410.     ,\n",
       "       340207.     , 372200.     , 341494.     , 379729.     ,\n",
       "       375994.     , 425121.     , 367092.     , 341469.     ,\n",
       "       317775.     , 344915.     , 377252.     , 361582.     ,\n",
       "       402909.     , 433434.     , 382629.     , 422068.     ,\n",
       "       452293.     , 460802.     , 396937.     , 372935.     ,\n",
       "       338681.     , 356022.     , 378526.     , 365387.     ,\n",
       "       404909.     , 391343.     , 354301.     , 395059.     ,\n",
       "       390543.     , 429076.     , 370159.     , 342758.     ,\n",
       "       315306.     , 340026.     , 333129.     , 327475.     ,\n",
       "       373830.     , 390816.     , 359599.     , 385942.     ,\n",
       "       404023.     , 454848.     , 410793.     , 367077.     ,\n",
       "       347529.     , 386960.     , 353144.     , 342121.     ,\n",
       "       365306.     , 382697.     , 350890.     , 393709.     ,\n",
       "       408808.     , 463663.     , 397647.     , 392037.     ,\n",
       "       358090.     , 378818.     , 393994.     , 414015.     ,\n",
       "       444923.     , 465251.     , 407131.     , 434287.     ,\n",
       "       476706.     , 517290.     , 435367.     , 420096.     ,\n",
       "       397998.     , 412374.     , 437935.     , 412057.     ,\n",
       "       462857.     , 478209.     , 425405.     , 433834.     ,\n",
       "       476163.     , 516469.     , 434510.     , 419288.     ,\n",
       "       397407.     , 411478.     , 437055.     , 411343.     ,\n",
       "       461796.     , 477409.     , 424447.     , 453155.     ,\n",
       "       520192.     , 564710.     , 493445.     , 453432.     ,\n",
       "       386029.     , 430444.     , 471273.     , 446514.     ,\n",
       "       495809.     , 531509.     , 481347.     , 534811.     ,\n",
       "       573969.     , 633222.     , 541542.     , 506090.     ,\n",
       "       458761.     , 482223.     , 507675.     , 475834.     ,\n",
       "       544780.     , 542609.     , 500485.     , 568567.     ,\n",
       "       593146.     , 685909.     , 593055.     , 528805.     ,\n",
       "       479875.     , 521698.     , 540274.     , 512789.     ,\n",
       "       561533.     , 580659.     , 546120.     , 591688.     ,\n",
       "       651839.     , 694358.     , 608216.     , 559521.     ,\n",
       "       474915.     , 516921.     , 556382.     , 537628.     ,\n",
       "       566998.     , 607539.     , 571418.     , 640816.     ,\n",
       "       682918.     , 728003.     , 562849.     , 548500.     ,\n",
       "       492665.     , 524385.     , 582680.     , 554910.     ,\n",
       "       579426.     , 649590.     , 608343.     , 675450.     ,\n",
       "       675447.     , 718036.     , 600845.     , 549991.     ,\n",
       "       473145.     , 501006.     , 552971.     , 519353.     ,\n",
       "       431660.28125, 431660.28125, 431660.28125, 431660.28125,\n",
       "       431660.28125, 431660.28125, 431660.28125, 431660.28125,\n",
       "       431660.28125, 431660.28125, 431660.28125, 431660.28125])"
      ]
     },
     "execution_count": 16,
     "metadata": {},
     "output_type": "execute_result"
    }
   ],
   "source": [
    "y"
   ]
  },
  {
   "cell_type": "code",
   "execution_count": 7,
   "metadata": {},
   "outputs": [],
   "source": [
    "# Encoding categorical data\n",
    "from sklearn.preprocessing import LabelEncoder, OneHotEncoder\n",
    "labelencoder = LabelEncoder()\n",
    "X[:, 3] = labelencoder.fit_transform(X[:, 3])\n",
    "onehotencoder = OneHotEncoder(categorical_features = [3])\n",
    "X = onehotencoder.fit_transform(X).toarray()"
   ]
  },
  {
   "cell_type": "code",
   "execution_count": 8,
   "metadata": {},
   "outputs": [],
   "source": [
    "# Avoiding the Dummy Variable Trap\n",
    "X = X[:, 1:]"
   ]
  },
  {
   "cell_type": "code",
   "execution_count": 9,
   "metadata": {},
   "outputs": [],
   "source": [
    "# Splitting the dataset into the Training set and Test set\n",
    "from sklearn.model_selection import train_test_split\n",
    "X_train, X_test, y_train, y_test = train_test_split(X, y, test_size = 0.2, random_state = 0)"
   ]
  },
  {
   "cell_type": "code",
   "execution_count": 17,
   "metadata": {},
   "outputs": [
    {
     "data": {
      "text/plain": [
       "array([269174.     , 344915.     , 289490.     , 372200.     ,\n",
       "       478209.     , 397647.     , 304595.     , 520192.     ,\n",
       "       249249.     , 521698.     , 391343.     , 549991.     ,\n",
       "       556382.     , 651839.     , 512789.     , 214585.     ,\n",
       "       430444.     , 446514.     , 385942.     , 370159.     ,\n",
       "       317775.     , 500485.     , 395059.     , 534811.     ,\n",
       "       350890.     , 482223.     , 473145.     , 608343.     ,\n",
       "       694358.     , 444923.     , 431660.28125, 404909.     ,\n",
       "       294667.     , 359599.     , 347529.     , 275110.     ,\n",
       "       327475.     , 465251.     , 279912.     , 608216.     ,\n",
       "       564710.     ])"
      ]
     },
     "execution_count": 17,
     "metadata": {},
     "output_type": "execute_result"
    }
   ],
   "source": [
    "y_test"
   ]
  },
  {
   "cell_type": "code",
   "execution_count": 10,
   "metadata": {},
   "outputs": [
    {
     "data": {
      "text/plain": [
       "LinearRegression(copy_X=True, fit_intercept=True, n_jobs=1, normalize=False)"
      ]
     },
     "execution_count": 10,
     "metadata": {},
     "output_type": "execute_result"
    }
   ],
   "source": [
    "# Fitting Multiple Linear Regression to the Training set\n",
    "from sklearn.linear_model import LinearRegression\n",
    "regressor = LinearRegression()\n",
    "regressor.fit(X_train, y_train)"
   ]
  },
  {
   "cell_type": "code",
   "execution_count": 11,
   "metadata": {},
   "outputs": [],
   "source": [
    "# Predicting the Test set results\n",
    "y_pred = regressor.predict(X_test)"
   ]
  },
  {
   "cell_type": "code",
   "execution_count": 14,
   "metadata": {},
   "outputs": [
    {
     "data": {
      "text/plain": [
       "array([320648.44502963, 342487.58534492, 306502.25223397, 310015.51204043,\n",
       "       417396.65815526, 428029.59114446, 294766.61771717, 495750.23587544,\n",
       "       294846.50687688, 517692.22184043, 352546.61867159, 557232.73005069,\n",
       "       510804.88201109, 519829.62322418, 489564.74583888, 305094.55427741,\n",
       "       469425.36629602, 469403.59697064, 423253.59737076, 377759.11326141,\n",
       "       343313.84066009, 459424.97811209, 389042.05017117, 511153.91807354,\n",
       "       372491.39961717, 485064.64236707, 569657.40299287, 498175.59014274,\n",
       "       534567.33442023, 387903.11792909, 576784.74308547, 353960.7974473 ,\n",
       "       337513.77527183, 352043.83199726, 378506.54867058, 310567.46981744,\n",
       "       352526.26825088, 387739.32668208, 322806.38389152, 534444.34456166,\n",
       "       450838.4276012 ])"
      ]
     },
     "execution_count": 14,
     "metadata": {},
     "output_type": "execute_result"
    }
   ],
   "source": [
    "y_pred"
   ]
  },
  {
   "cell_type": "code",
   "execution_count": 18,
   "metadata": {},
   "outputs": [],
   "source": [
    "forecast_error = y_test - y_pred"
   ]
  },
  {
   "cell_type": "code",
   "execution_count": 19,
   "metadata": {},
   "outputs": [
    {
     "data": {
      "text/plain": [
       "array([ -51474.44502963,    2427.41465508,  -17012.25223397,\n",
       "         62184.48795957,   60812.34184474,  -30382.59114446,\n",
       "          9828.38228283,   24441.76412456,  -45597.50687688,\n",
       "          4005.77815957,   38796.38132841,   -7241.73005069,\n",
       "         45577.11798891,  132009.37677582,   23224.25416112,\n",
       "        -90509.55427741,  -38981.36629602,  -22889.59697064,\n",
       "        -37311.59737076,   -7600.11326141,  -25538.84066009,\n",
       "         41060.02188791,    6016.94982883,   23657.08192646,\n",
       "        -21601.39961717,   -2841.64236707,  -96512.40299287,\n",
       "        110167.40985726,  159790.66557977,   57019.88207091,\n",
       "       -145124.46183547,   50948.2025527 ,  -42846.77527183,\n",
       "          7555.16800274,  -30977.54867058,  -35457.46981744,\n",
       "        -25051.26825088,   77511.67331792,  -42894.38389152,\n",
       "         73771.65543834,  113871.5723988 ])"
      ]
     },
     "execution_count": 19,
     "metadata": {},
     "output_type": "execute_result"
    }
   ],
   "source": [
    "forecast_error"
   ]
  },
  {
   "cell_type": "code",
   "execution_count": null,
   "metadata": {},
   "outputs": [],
   "source": []
  }
 ],
 "metadata": {
  "kernelspec": {
   "display_name": "Python 3",
   "language": "python",
   "name": "python3"
  },
  "language_info": {
   "codemirror_mode": {
    "name": "ipython",
    "version": 3
   },
   "file_extension": ".py",
   "mimetype": "text/x-python",
   "name": "python",
   "nbconvert_exporter": "python",
   "pygments_lexer": "ipython3",
   "version": "3.7.0"
  }
 },
 "nbformat": 4,
 "nbformat_minor": 2
}
